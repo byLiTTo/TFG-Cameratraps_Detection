{
 "cells": [
  {
   "cell_type": "code",
   "execution_count": 1,
   "metadata": {},
   "outputs": [],
   "source": [
    "from datetime import datetime\n",
    "import os\n",
    "import platform\n",
    "\n",
    "import pytz\n",
    "\n",
    "num_cores = os.cpu_count()\n",
    "\n",
    "threshold = float(0.1)\n",
    "threshold_str = str(threshold).replace(\".\", \"-\")\n",
    "\n",
    "dataset_files = os.path.abspath(\"resources/input/2_ave_alumno_1_TH\")\n",
    "\n",
    "csv_file = os.path.abspath(\"data/processed/10Train copia.csv\")\n",
    "\n",
    "output_path = os.path.abspath(\"resources/output_json/\")\n",
    "\n",
    "json_output_path = os.path.abspath(\"resources/output_json\")\n",
    "date_time = datetime.now(pytz.timezone(\"Europe/Madrid\")).strftime(\"%Y-%m-%d_%H-%M\")\n",
    "\n",
    "name = date_time + \"_\" + threshold_str\n",
    "\n",
    "folder_name = os.path.join(json_output_path, name)\n",
    "os.makedirs(folder_name)\n",
    "\n",
    "\n",
    "file_path = folder_name + os.sep + name + \".json\"\n",
    "\n",
    "\n",
    "detection_model = os.path.abspath(\"models/MegaDetector v4.1, 2020.04.27/md_v4.1.0.pb\")\n",
    "\n",
    "ai4eutils_path = os.path.abspath(\"data/external/ai4eutils\")\n",
    "CameraTraps_path = os.path.abspath(\"data/external/CameraTraps\")\n",
    "src_path = os.path.abspath(\"./src\")\n",
    "\n",
    "try:\n",
    "    os.environ[\"PYTHONPATH\"]\n",
    "except KeyError:\n",
    "    os.environ[\"PYTHONPATH\"] = \"\"\n",
    "if platform.system() == \"Windows\":\n",
    "    os.environ[\"PYTHONPATH\"] += \";\" + ai4eutils_path\n",
    "    os.environ[\"PYTHONPATH\"] += \";\" + CameraTraps_path\n",
    "    os.environ[\"PYTHONPATH\"] += \";\" + src_path\n",
    "else:\n",
    "    os.environ[\"PYTHONPATH\"] += \":\" + ai4eutils_path\n",
    "    os.environ[\"PYTHONPATH\"] += \":\" + CameraTraps_path\n",
    "    os.environ[\"PYTHONPATH\"] += \":\" + src_path"
   ]
  },
  {
   "cell_type": "code",
   "execution_count": 2,
   "metadata": {},
   "outputs": [
    {
     "name": "stdout",
     "output_type": "stream",
     "text": [
      "TensorFlow version: 2.10.0\n",
      "WARNING:tensorflow:From /Users/carlos/Library/Mobile Documents/com~apple~CloudDocs/WORKSPACE/TFG-Cameratraps_Detection/data/external/CameraTraps/detection/run_tf_detector.py:73: is_gpu_available (from tensorflow.python.framework.test_util) is deprecated and will be removed in a future version.\n",
      "Instructions for updating:\n",
      "Use `tf.config.list_physical_devices('GPU')` instead.\n",
      "Metal device set to: Apple M3\n",
      "\n",
      "systemMemory: 16.00 GB\n",
      "maxCacheSize: 5.33 GB\n",
      "\n",
      "2024-05-21 21:01:24.457282: I tensorflow/core/common_runtime/pluggable_device/pluggable_device_factory.cc:306] Could not identify NUMA node of platform GPU ID 0, defaulting to 0. Your kernel may not have been built with NUMA support.\n",
      "2024-05-21 21:01:24.457356: I tensorflow/core/common_runtime/pluggable_device/pluggable_device_factory.cc:272] Created TensorFlow device (/device:GPU:0 with 0 MB memory) -> physical PluggableDevice (device: 0, name: METAL, pci bus id: <undefined>)\n",
      "Is GPU available? tf.test.is_gpu_available: True\n",
      "TensorFlow version: 2.10.0\n",
      "2024-05-21 21:01:24.459281: I tensorflow/core/common_runtime/pluggable_device/pluggable_device_factory.cc:306] Could not identify NUMA node of platform GPU ID 0, defaulting to 0. Your kernel may not have been built with NUMA support.\n",
      "2024-05-21 21:01:24.459288: I tensorflow/core/common_runtime/pluggable_device/pluggable_device_factory.cc:272] Created TensorFlow device (/device:GPU:0 with 0 MB memory) -> physical PluggableDevice (device: 0, name: METAL, pci bus id: <undefined>)\n",
      "tf.test.is_gpu_available: True\n",
      "3 image files found in the input directory\n",
      "2024-05-21 21:01:24.459912: I tensorflow/core/common_runtime/pluggable_device/pluggable_device_factory.cc:306] Could not identify NUMA node of platform GPU ID 0, defaulting to 0. Your kernel may not have been built with NUMA support.\n",
      "2024-05-21 21:01:24.459917: I tensorflow/core/common_runtime/pluggable_device/pluggable_device_factory.cc:272] Created TensorFlow device (/device:GPU:0 with 0 MB memory) -> physical PluggableDevice (device: 0, name: METAL, pci bus id: <undefined>)\n",
      "Warning: multiple cores requested, but a GPU is available; parallelization across GPUs is not currently supported, defaulting to one GPU\n",
      "TFDetector: Loading graph...\n",
      "TFDetector: Detection graph loaded.\n",
      "2024-05-21 21:01:27.718303: I tensorflow/core/common_runtime/pluggable_device/pluggable_device_factory.cc:306] Could not identify NUMA node of platform GPU ID 0, defaulting to 0. Your kernel may not have been built with NUMA support.\n",
      "2024-05-21 21:01:27.718324: I tensorflow/core/common_runtime/pluggable_device/pluggable_device_factory.cc:272] Created TensorFlow device (/job:localhost/replica:0/task:0/device:GPU:0 with 0 MB memory) -> physical PluggableDevice (device: 0, name: METAL, pci bus id: <undefined>)\n",
      "Loaded model in 3.26 seconds\n",
      "  0%|                                                     | 0/3 [00:00<?, ?it/s]Processing image /Users/carlos/Library/Mobile Documents/com~apple~CloudDocs/WORKSPACE/TFG-Cameratraps_Detection/resources/input/2_ave_alumno_1_TH/Ave (1)_frame000.jpg\n",
      "2024-05-21 21:01:27.878431: I tensorflow/compiler/mlir/mlir_graph_optimization_pass.cc:354] MLIR V1 optimization pass is not enabled\n",
      "2024-05-21 21:01:27.964287: W tensorflow/core/platform/profile_utils/cpu_utils.cc:128] Failed to get CPU frequency: 0 Hz\n",
      "2024-05-21 21:01:27.992570: I tensorflow/core/grappler/optimizers/custom_graph_optimizer_registry.cc:114] Plugin optimizer for device_type GPU is enabled.\n",
      "2024-05-21 21:01:29.255134: W tensorflow/core/grappler/costs/op_level_cost_estimator.cc:690] Error in PredictCost() for the op: op: \"CropAndResize\" attr { key: \"T\" value { type: DT_FLOAT } } attr { key: \"extrapolation_value\" value { f: 0 } } attr { key: \"method\" value { s: \"bilinear\" } } inputs { dtype: DT_FLOAT shape { dim { size: -1047 } dim { size: -1048 } dim { size: -1049 } dim { size: 1088 } } } inputs { dtype: DT_FLOAT shape { dim { size: -108 } dim { size: 4 } } } inputs { dtype: DT_INT32 shape { dim { size: -108 } } } inputs { dtype: DT_INT32 shape { dim { size: 2 } } value { dtype: DT_INT32 tensor_shape { dim { size: 2 } } int_val: 17 } } device { type: \"CPU\" model: \"0\" num_cores: 8 environment { key: \"cpu_instruction_set\" value: \"ARM NEON\" } environment { key: \"eigen\" value: \"3.4.90\" } l1_cache_size: 16384 l2_cache_size: 524288 l3_cache_size: 524288 memory_size: 268435456 } outputs { dtype: DT_FLOAT shape { dim { size: -108 } dim { size: 17 } dim { size: 17 } dim { size: 1088 } } }\n",
      " 33%|███████████████                              | 1/3 [00:08<00:17,  9.00s/it]Processing image /Users/carlos/Library/Mobile Documents/com~apple~CloudDocs/WORKSPACE/TFG-Cameratraps_Detection/resources/input/2_ave_alumno_1_TH/Ave (1)_frame070.jpg\n",
      " 67%|██████████████████████████████               | 2/3 [00:11<00:05,  5.37s/it]Processing image /Users/carlos/Library/Mobile Documents/com~apple~CloudDocs/WORKSPACE/TFG-Cameratraps_Detection/resources/input/2_ave_alumno_1_TH/Ave (1)_frame050.jpg\n",
      "100%|█████████████████████████████████████████████| 3/3 [00:14<00:00,  4.81s/it]\n",
      "Finished inference in 18.19 seconds\n",
      "Output file saved at /Users/carlos/Library/Mobile Documents/com~apple~CloudDocs/WORKSPACE/TFG-Cameratraps_Detection/resources/output_json/2024-05-21_21-01_0-1/2024-05-21_21-01_0-1.json\n",
      "Done!\n"
     ]
    }
   ],
   "source": [
    "!python ./data/external/CameraTraps/detection/run_tf_detector_batch.py \"$detection_model\" \"$dataset_files\" \"$file_path\" --recursive --threshold \"$threshold\" --ncore \"$num_cores\""
   ]
  },
  {
   "cell_type": "code",
   "execution_count": 11,
   "metadata": {},
   "outputs": [
    {
     "name": "stdout",
     "output_type": "stream",
     "text": [
      "El archivo /Users/carlos/Library/Mobile Documents/com~apple~CloudDocs/WORKSPACE/TFG-Cameratraps_Detection/data/processed/10Train copia.csv se ha abierto con éxito.\n",
      "1\n"
     ]
    }
   ],
   "source": [
    "import json\n",
    "import src.data.Dataset as dt\n",
    "\n",
    "with open(file_path, \"r\") as file:\n",
    "    data = json.load(file)\n",
    "\n",
    "dataset = dt.load_from_csv(csv_file)\n",
    "dataset = dt.convert_csv_to_abstract(dataset, dataset_files)\n",
    "\n",
    "file_name_list = dataset[\"file_name\"].tolist()\n",
    "\n",
    "detection_label = []\n",
    "false_positive = []\n",
    "for image in data[\"images\"]:\n",
    "    file = image[\"file\"]\n",
    "    is_file_in_dataset = file in dataset[\"file_name\"].values\n",
    "    if is_file_in_dataset:\n",
    "        pos = file_name_list.index(file)\n",
    "        label = 0\n",
    "        for detection in image[\"detections\"]:\n",
    "            if detection[\"category\"] != \"0\":\n",
    "                label = 1\n",
    "                break\n",
    "        detection_label.append(label)\n",
    "        false_positive.append(int(dataset[\"label\"].iloc[pos] != label))\n",
    "dataset[\"detection_label\"] = detection_label\n",
    "dataset[\"is_false_positive\"] = false_positive\n",
    "total_false_positive = dataset[\"is_false_positive\"].sum()"
   ]
  },
  {
   "cell_type": "code",
   "execution_count": null,
   "metadata": {},
   "outputs": [],
   "source": []
  }
 ],
 "metadata": {
  "kernelspec": {
   "display_name": "TFG",
   "language": "python",
   "name": "python3"
  },
  "language_info": {
   "codemirror_mode": {
    "name": "ipython",
    "version": 3
   },
   "file_extension": ".py",
   "mimetype": "text/x-python",
   "name": "python",
   "nbconvert_exporter": "python",
   "pygments_lexer": "ipython3",
   "version": "3.8.13"
  }
 },
 "nbformat": 4,
 "nbformat_minor": 2
}
