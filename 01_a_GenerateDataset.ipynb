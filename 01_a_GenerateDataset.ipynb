{
 "cells": [
  {
   "cell_type": "code",
   "execution_count": 1,
   "metadata": {},
   "outputs": [
    {
     "name": "stdout",
     "output_type": "stream",
     "text": [
      "{'vacia', 'dudosa'}\n"
     ]
    }
   ],
   "source": [
    "animal_class_original = [\n",
    "    \"ave\",\n",
    "    \"caballo\",\n",
    "    \"cervidae\",\n",
    "    \"dudosa\",\n",
    "    \"garduna\",\n",
    "    \"gato_domestico\",\n",
    "    \"gineta\",\n",
    "    \"humanovehiculo\",\n",
    "    \"jabali\",\n",
    "    \"leporido\",\n",
    "    \"lince\",\n",
    "    \"mapache\",\n",
    "    \"meloncillo\",\n",
    "    \"micromamiferos\",\n",
    "    \"perro\",\n",
    "    \"tejon\",\n",
    "    \"vaca\",\n",
    "    \"vacia\",\n",
    "    \"zorro\",\n",
    "]\n",
    "\n",
    "animal_class_custom = [\n",
    "    \"ave\",\n",
    "    \"caballo\",\n",
    "    \"cervidae\",\n",
    "    \"garduna\",\n",
    "    \"gato_domestico\",\n",
    "    \"gineta\",\n",
    "    \"humanovehiculo\",\n",
    "    \"jabali\",\n",
    "    \"leporido\",\n",
    "    \"lince\",\n",
    "    \"mapache\",\n",
    "    \"meloncillo\",\n",
    "    \"micromamiferos\",\n",
    "    \"perro\",\n",
    "    \"tejon\",\n",
    "    \"vaca\",\n",
    "    \"zorro\",\n",
    "]\n",
    "\n",
    "empty_class = [\"vacia\"]"
   ]
  },
  {
   "cell_type": "code",
   "execution_count": 8,
   "metadata": {},
   "outputs": [],
   "source": [
    "import os\n",
    "\n",
    "INPUT_FILE_PATH = os.path.abspath(\"data/raw/10000Images.csv\")\n",
    "INTERIM_PATH = os.path.abspath(\"data/interim\")\n",
    "PROCESSED_PATH = os.path.abspath(\"data/processed\")"
   ]
  },
  {
   "cell_type": "code",
   "execution_count": 9,
   "metadata": {},
   "outputs": [
    {
     "name": "stdout",
     "output_type": "stream",
     "text": [
      "El archivo /Users/carlos/Library/Mobile Documents/com~apple~CloudDocs/WORKSPACE/TFG-Cameratraps_Detection/data/raw/10000Images.csv se ha abierto con éxito.\n"
     ]
    },
    {
     "name": "stderr",
     "output_type": "stream",
     "text": [
      "/Users/carlos/Library/Mobile Documents/com~apple~CloudDocs/WORKSPACE/TFG-Cameratraps_Detection/src/data/Dataset.py:95: SettingWithCopyWarning: \n",
      "A value is trying to be set on a copy of a slice from a DataFrame.\n",
      "Try using .loc[row_indexer,col_indexer] = value instead\n",
      "\n",
      "See the caveats in the documentation: https://pandas.pydata.org/pandas-docs/stable/user_guide/indexing.html#returning-a-view-versus-a-copy\n",
      "  dataset.loc[:, \"label\"] = dataset[\"label\"].apply(\n"
     ]
    }
   ],
   "source": [
    "import src.data.Dataset as dt\n",
    "\n",
    "crop_to = 10000\n",
    "\n",
    "percentaje_train = 0.7\n",
    "percentaje_val = 0.15\n",
    "percentaje_test = 0.15\n",
    "\n",
    "dataset = dt.load_from_csv(INPUT_FILE_PATH)\n",
    "\n",
    "number_raw_samples = len(dataset[\"file_name\"].values)\n",
    "\n",
    "dataset = dt.convert_to_binary(dataset, empty_class, animal_class_custom)"
   ]
  },
  {
   "cell_type": "code",
   "execution_count": 10,
   "metadata": {},
   "outputs": [
    {
     "name": "stdout",
     "output_type": "stream",
     "text": [
      "El conjunto de datos se ha guardado correctamente en /Users/carlos/Library/Mobile Documents/com~apple~CloudDocs/WORKSPACE/TFG-Cameratraps_Detection/data/interim/10000Imagenes_binary.csv.\n",
      "El conjunto de datos se ha guardado correctamente en /Users/carlos/Library/Mobile Documents/com~apple~CloudDocs/WORKSPACE/TFG-Cameratraps_Detection/data/interim/10Imagenes_binary.csv.\n",
      "Number of samples in raw dataset: \t\t31670\n",
      "Number of samples in set dataset: \t\t29618\n",
      "Number of empty samples in set dataset: \t10000\n",
      "Number of animal samples in set dataset: \t19618\n",
      "Number of samples in dropped dataset: \t\t10\n"
     ]
    }
   ],
   "source": [
    "number_set_samples = len(dataset[\"file_name\"].values)\n",
    "number_set_empty = len(dataset[dataset[\"label\"] == 0])\n",
    "number_set_animal = len(dataset[dataset[\"label\"] == 1])\n",
    "\n",
    "csv_set_path = os.path.join(INTERIM_PATH, str(number_set_empty) + \"Imagenes_binary.csv\")\n",
    "dt.dataset_to_csv(dataset, csv_set_path)\n",
    "\n",
    "\n",
    "if crop_to < number_set_empty:\n",
    "    dataset_crop = dt.crop_dataset(dataset, crop_to)\n",
    "    number_crop_empty = len(dataset_crop[dataset_crop[\"label\"] == 0])\n",
    "    csv_crop_path = os.path.join(\n",
    "        INTERIM_PATH, str(number_crop_empty) + \"Imagenes_binary.csv\"\n",
    "    )\n",
    "    dt.dataset_to_csv(dataset_crop, csv_crop_path)\n",
    "\n",
    "print(\"Number of samples in raw dataset: \\t\\t\" + str(number_raw_samples))\n",
    "print(\"Number of samples in set dataset: \\t\\t\" + str(number_set_samples))\n",
    "print(\"Number of empty samples in set dataset: \\t\" + str(number_set_empty))\n",
    "print(\"Number of animal samples in set dataset: \\t\" + str(number_set_animal))\n",
    "if crop_to < number_set_empty:\n",
    "    print(\"Number of samples in dropped dataset: \\t\\t\" + str(number_crop_empty))"
   ]
  },
  {
   "cell_type": "code",
   "execution_count": 11,
   "metadata": {},
   "outputs": [
    {
     "name": "stdout",
     "output_type": "stream",
     "text": [
      "El conjunto de datos se ha guardado correctamente en /Users/carlos/Library/Mobile Documents/com~apple~CloudDocs/WORKSPACE/TFG-Cameratraps_Detection/data/processed/10000Train.csv.\n",
      "El conjunto de datos se ha guardado correctamente en /Users/carlos/Library/Mobile Documents/com~apple~CloudDocs/WORKSPACE/TFG-Cameratraps_Detection/data/processed/10000Validation.csv.\n",
      "El conjunto de datos se ha guardado correctamente en /Users/carlos/Library/Mobile Documents/com~apple~CloudDocs/WORKSPACE/TFG-Cameratraps_Detection/data/processed/10000Test.csv.\n"
     ]
    }
   ],
   "source": [
    "csv_train_path = os.path.join(PROCESSED_PATH, str(number_set_empty) + \"Train.csv\")\n",
    "csv_val_path = os.path.join(PROCESSED_PATH, str(number_set_empty) + \"Validation.csv\")\n",
    "csv_test_path = os.path.join(PROCESSED_PATH, str(number_set_empty) + \"Test.csv\")\n",
    "\n",
    "train_dataset, val_dataset, test_dataset = dt.split_dataset(\n",
    "    dataset, percentaje_train, percentaje_val, percentaje_test\n",
    ")\n",
    "\n",
    "dt.dataset_to_csv(train_dataset, csv_train_path)\n",
    "dt.dataset_to_csv(val_dataset, csv_val_path)\n",
    "dt.dataset_to_csv(test_dataset, csv_test_path)"
   ]
  },
  {
   "cell_type": "code",
   "execution_count": 12,
   "metadata": {},
   "outputs": [
    {
     "name": "stdout",
     "output_type": "stream",
     "text": [
      "El conjunto de datos se ha guardado correctamente en /Users/carlos/Library/Mobile Documents/com~apple~CloudDocs/WORKSPACE/TFG-Cameratraps_Detection/data/processed/10Train.csv.\n",
      "El conjunto de datos se ha guardado correctamente en /Users/carlos/Library/Mobile Documents/com~apple~CloudDocs/WORKSPACE/TFG-Cameratraps_Detection/data/processed/10Validation.csv.\n",
      "El conjunto de datos se ha guardado correctamente en /Users/carlos/Library/Mobile Documents/com~apple~CloudDocs/WORKSPACE/TFG-Cameratraps_Detection/data/processed/10Test.csv.\n"
     ]
    }
   ],
   "source": [
    "if crop_to < number_set_empty:\n",
    "    csv_train_path = os.path.join(PROCESSED_PATH, str(number_crop_empty) + \"Train.csv\")\n",
    "    csv_val_path = os.path.join(\n",
    "        PROCESSED_PATH, str(number_crop_empty) + \"Validation.csv\"\n",
    "    )\n",
    "    csv_test_path = os.path.join(PROCESSED_PATH, str(number_crop_empty) + \"Test.csv\")\n",
    "\n",
    "    train_dataset, val_dataset, test_dataset = dt.split_dataset(\n",
    "        dataset_crop, percentaje_train, percentaje_val, percentaje_test\n",
    "    )\n",
    "\n",
    "    dt.dataset_to_csv(train_dataset, csv_train_path)\n",
    "    dt.dataset_to_csv(val_dataset, csv_val_path)\n",
    "    dt.dataset_to_csv(test_dataset, csv_test_path)"
   ]
  }
 ],
 "metadata": {
  "kernelspec": {
   "display_name": "TFG-Repositorio",
   "language": "python",
   "name": "python3"
  },
  "language_info": {
   "codemirror_mode": {
    "name": "ipython",
    "version": 3
   },
   "file_extension": ".py",
   "mimetype": "text/x-python",
   "name": "python",
   "nbconvert_exporter": "python",
   "pygments_lexer": "ipython3",
   "version": "3.8.13"
  }
 },
 "nbformat": 4,
 "nbformat_minor": 2
}
