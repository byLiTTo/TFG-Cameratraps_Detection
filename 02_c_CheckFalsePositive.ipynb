{
 "cells": [
  {
   "cell_type": "code",
   "execution_count": null,
   "metadata": {},
   "outputs": [],
   "source": [
    "import json\n",
    "import os\n",
    "\n",
    "import src.data.Dataset as dt\n",
    "\n",
    "file_path = os.path.abspath(\n",
    "    \"resources/output_json/2024-05-21_21-49_0-1/2024-05-21_21-49_0-1.json\"\n",
    ")\n",
    "csv_file = os.path.abspath(\"data/processed/10000Train.csv\")\n",
    "dataset_files = os.path.abspath(\"resources/input/emptyNonEmptyDataset\")\n",
    "\n",
    "with open(file_path, \"r\") as file:\n",
    "    data = json.load(file)\n",
    "\n",
    "dataset = dt.load_from_csv(csv_file)\n",
    "dataset = dt.convert_csv_to_abstract(dataset, dataset_files)\n",
    "\n",
    "file_name_list = dataset[\"file_name\"].tolist()\n",
    "\n",
    "detection_label = []\n",
    "false_positive = []\n",
    "for image in data[\"images\"]:\n",
    "    file = image[\"file\"]\n",
    "    is_file_in_dataset = file in dataset[\"file_name\"].values\n",
    "    if is_file_in_dataset:\n",
    "        pos = file_name_list.index(file)\n",
    "        label = 0\n",
    "        for detection in image[\"detections\"]:\n",
    "            if detection[\"category\"] != \"0\":\n",
    "                label = 1\n",
    "                break\n",
    "        detection_label.append(label)\n",
    "        false_positive.append(int(dataset[\"label\"].iloc[pos] != label))\n",
    "dataset[\"detection_label\"] = detection_label\n",
    "dataset[\"is_false_positive\"] = false_positive\n",
    "total_false_positive = dataset[\"is_false_positive\"].sum()\n",
    "\n",
    "path = folder_name + os.sep + name + \".csv\"\n",
    "dt.dataset_to_csv(dataset, path)"
   ]
  }
 ],
 "metadata": {
  "language_info": {
   "name": "python"
  }
 },
 "nbformat": 4,
 "nbformat_minor": 2
}
