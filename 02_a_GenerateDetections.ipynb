{
 "cells": [
  {
   "cell_type": "code",
   "execution_count": 1,
   "metadata": {},
   "outputs": [
    {
     "name": "stdout",
     "output_type": "stream",
     "text": [
      "Summary of created paths:\n",
      "Dataset: \t\t/Users/carlos/WORKSPACE/DATASETs/emptyNonEmptyDataset\n",
      "CSV: \t\t\t/Users/carlos/WORKSPACE/TFG-Cameratraps_Detection/data/interim/10Imagenes_binary.csv\n",
      "json_output_path: \t/Users/carlos/WORKSPACE/TFG-Cameratraps_Detection/resources/output_json\n",
      "Model detection: \t/Users/carlos/WORKSPACE/TFG-Cameratraps_Detection/models/MegaDetector v4.1, 2020.04.27/md_v4.1.0.pb\n",
      "Repor ai4eutils_path: \t/Users/carlos/WORKSPACE/TFG-Cameratraps_Detection/data/external/ai4eutils\n",
      "Repo CameraTraps_path: \t/Users/carlos/WORKSPACE/TFG-Cameratraps_Detection/data/external/CameraTraps\n",
      "PYTHONPATH: :/Users/carlos/WORKSPACE/TFG-Cameratraps_Detection/data/external/ai4eutils:/Users/carlos/WORKSPACE/TFG-Cameratraps_Detection/data/external/CameraTraps:/Users/carlos/WORKSPACE/TFG-Cameratraps_Detection/src\n"
     ]
    }
   ],
   "source": [
    "import os\n",
    "import platform\n",
    "\n",
    "dataset_files = os.path.abspath(\"../DATASETs/emptyNonEmptyDataset\")\n",
    "csv_file = os.path.abspath(\"./data/interim/10Imagenes_binary.csv\")\n",
    "json_output_path = os.path.abspath(\"./resources/output_json\")\n",
    "detection_model = os.path.abspath(\"./models/MegaDetector v4.1, 2020.04.27/md_v4.1.0.pb\")\n",
    "\n",
    "ai4eutils_path = os.path.abspath(\"./data/external/ai4eutils\")\n",
    "CameraTraps_path = os.path.abspath(\"./data/external/CameraTraps\")\n",
    "src_path = os.path.abspath(\"./src\")\n",
    "\n",
    "try:\n",
    "    os.environ[\"PYTHONPATH\"]\n",
    "except KeyError:\n",
    "    os.environ[\"PYTHONPATH\"] = \"\"\n",
    "if platform.system() == \"Windows\":\n",
    "    os.environ[\"PYTHONPATH\"] += \";\" + ai4eutils_path\n",
    "    os.environ[\"PYTHONPATH\"] += \";\" + CameraTraps_path\n",
    "    os.environ[\"PYTHONPATH\"] += \";\" + src_path\n",
    "else:\n",
    "    os.environ[\"PYTHONPATH\"] += \":\" + ai4eutils_path\n",
    "    os.environ[\"PYTHONPATH\"] += \":\" + CameraTraps_path\n",
    "    os.environ[\"PYTHONPATH\"] += \":\" + src_path\n",
    "\n",
    "print(\"Summary of created paths:\")\n",
    "print(f\"Dataset: \\t\\t{dataset_files}\")\n",
    "print(f\"CSV: \\t\\t\\t{csv_file}\")\n",
    "print(f\"json_output_path: \\t{json_output_path}\")\n",
    "print(f\"Model detection: \\t{detection_model}\")\n",
    "print(f\"Repor ai4eutils_path: \\t{ai4eutils_path}\")\n",
    "print(f\"Repo CameraTraps_path: \\t{CameraTraps_path}\")\n",
    "print(f\"PYTHONPATH: {os.environ['PYTHONPATH']}\")"
   ]
  },
  {
   "cell_type": "code",
   "execution_count": 2,
   "metadata": {},
   "outputs": [
    {
     "name": "stdout",
     "output_type": "stream",
     "text": [
      "usage: Detection.py [-h] [--csv CSV] [--recursive] [--dataset_dir DATASET_DIR]\n",
      "                    [--output_dir OUTPUT_DIR]\n",
      "                    model_file\n",
      "Detection.py: error: unrecognized arguments: --json_output_path --model_file \n"
     ]
    }
   ],
   "source": [
    "# !python ./modules/.py \"$model_path\" --dataset_dir \"$input_path\" --csv_file \"$input_csv_path\" --output_dir \"$output_json_path\"\n",
    "!python src/models/Detection.py --model_file \"$detection_model\" --csv \"$csv_file\" --dataset_dir \"$dataset_files\" --output_dir \"$json_output_path\""
   ]
  }
 ],
 "metadata": {
  "kernelspec": {
   "display_name": "TFG",
   "language": "python",
   "name": "python3"
  },
  "language_info": {
   "codemirror_mode": {
    "name": "ipython",
    "version": 3
   },
   "file_extension": ".py",
   "mimetype": "text/x-python",
   "name": "python",
   "nbconvert_exporter": "python",
   "pygments_lexer": "ipython3",
   "version": "3.10.13"
  }
 },
 "nbformat": 4,
 "nbformat_minor": 2
}
