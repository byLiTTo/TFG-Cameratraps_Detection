{
 "cells": [
  {
   "cell_type": "code",
   "execution_count": 1,
   "metadata": {},
   "outputs": [],
   "source": [
    "import os\n",
    "import platform\n",
    "from datetime import datetime\n",
    "\n",
    "import pytz\n",
    "\n",
    "SHOW_RESULT = False\n",
    "\n",
    "json_file = os.path.abspath(\n",
    "    \"resources/output_json/2024-05-21_21-49_0-1/2024-05-21_21-49_0-1.json\"\n",
    ")\n",
    "output_mask = os.path.abspath(\"resources/output_mask/2024-05-22_20-14\")\n",
    "\n",
    "date_time = datetime.now(pytz.timezone(\"Europe/Madrid\")).strftime(\"%Y-%m-%d_%H-%M\")\n",
    "masked_path = os.path.abspath(\"resources/output_masked/\" + date_time + \"/\")\n",
    "os.makedirs(masked_path, exist_ok=True)\n",
    "\n",
    "ai4eutils_path = os.path.abspath(\"data/external/ai4eutils\")\n",
    "CameraTraps_path = os.path.abspath(\"data/external/CameraTraps\")\n",
    "src_path = os.path.abspath(\"./src\")\n",
    "\n",
    "try:\n",
    "    os.environ[\"PYTHONPATH\"]\n",
    "except KeyError:\n",
    "    os.environ[\"PYTHONPATH\"] = \"\"\n",
    "if platform.system() == \"Windows\":\n",
    "    os.environ[\"PYTHONPATH\"] += \";\" + ai4eutils_path\n",
    "    os.environ[\"PYTHONPATH\"] += \";\" + CameraTraps_path\n",
    "    os.environ[\"PYTHONPATH\"] += \";\" + src_path\n",
    "else:\n",
    "    os.environ[\"PYTHONPATH\"] += \":\" + ai4eutils_path\n",
    "    os.environ[\"PYTHONPATH\"] += \":\" + CameraTraps_path\n",
    "    os.environ[\"PYTHONPATH\"] += \":\" + src_path"
   ]
  },
  {
   "cell_type": "code",
   "execution_count": 2,
   "metadata": {},
   "outputs": [
    {
     "name": "stdout",
     "output_type": "stream",
     "text": [
      "Applying masks to 17 images...\n",
      "100%|███████████████████████████████████████████| 17/17 [00:00<00:00, 82.88it/s]\n",
      "On average, for each image: \n",
      "It took 0.01 seconds to apply the mask, with a deviation of 0 seconds\n",
      "Results saved in: /Users/carlos/Library/Mobile Documents/com~apple~CloudDocs/WORKSPACE/TFG-Cameratraps_Detection/resources/output_masked/2024-05-22_20-46\n"
     ]
    }
   ],
   "source": [
    "!python src/features/apply_mask.py --json_file \"$json_file\" --output_mask \"$output_mask\" --output_masked \"$masked_path\""
   ]
  },
  {
   "cell_type": "code",
   "execution_count": 3,
   "metadata": {},
   "outputs": [],
   "source": [
    "if SHOW_RESULT:\n",
    "    import glob\n",
    "    import os\n",
    "\n",
    "    from PIL import Image\n",
    "    from tqdm import tqdm\n",
    "\n",
    "    image_extensions = [\".png\"]\n",
    "\n",
    "    def is_image_file(s):\n",
    "        ext = os.path.splitext(s)[1]\n",
    "        return ext.lower() in image_extensions\n",
    "\n",
    "    def find_image_files(strings):\n",
    "        return [s for s in strings if is_image_file(s)]\n",
    "\n",
    "    def find_images(dir_name):\n",
    "        strings = glob.glob(os.path.join(dir_name, \"*.*\"))\n",
    "        image_strings = find_image_files(strings)\n",
    "        return image_strings\n",
    "\n",
    "    image_file_names = find_images(masked_path)\n",
    "\n",
    "    for image_file in tqdm(image_file_names):\n",
    "        print(image_file)\n",
    "        im = Image.open(image_file)\n",
    "        display(im)\n",
    "        print(\"\\n\\n\")"
   ]
  }
 ],
 "metadata": {
  "kernelspec": {
   "display_name": "TFG",
   "language": "python",
   "name": "python3"
  },
  "language_info": {
   "codemirror_mode": {
    "name": "ipython",
    "version": 3
   },
   "file_extension": ".py",
   "mimetype": "text/x-python",
   "name": "python",
   "nbconvert_exporter": "python",
   "pygments_lexer": "ipython3",
   "version": "3.10.13"
  }
 },
 "nbformat": 4,
 "nbformat_minor": 2
}
