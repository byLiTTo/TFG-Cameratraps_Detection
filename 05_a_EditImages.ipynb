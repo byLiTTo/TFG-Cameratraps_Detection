{
 "cells": [
  {
   "cell_type": "code",
   "execution_count": null,
   "metadata": {},
   "outputs": [],
   "source": [
    "import os\n",
    "import platform\n",
    "from datetime import datetime\n",
    "\n",
    "import pytz\n",
    "\n",
    "SHOW_RESULT = False\n",
    "\n",
    "json_file = os.path.abspath(\n",
    "    \"resources/output_json/2024-05-21_21-49_0-1/2024-05-21_21-49_0-1.json\"\n",
    ")\n",
    "\n",
    "output_masked = os.path.abspath(\"resources/output_masked/2024-05-22_20-46\")\n",
    "\n",
    "date_time = datetime.now(pytz.timezone(\"Europe/Madrid\")).strftime(\"%Y-%m-%d_%H-%M\")\n",
    "output_edited = os.path.abspath(\"resources/output_edited/\" + date_time + \"/\")\n",
    "os.makedirs(output_edited, exist_ok=True)\n",
    "\n",
    "ai4eutils_path = os.path.abspath(\"data/external/ai4eutils\")\n",
    "CameraTraps_path = os.path.abspath(\"data/external/CameraTraps\")\n",
    "src_path = os.path.abspath(\"./src\")\n",
    "\n",
    "try:\n",
    "    os.environ[\"PYTHONPATH\"]\n",
    "except KeyError:\n",
    "    os.environ[\"PYTHONPATH\"] = \"\"\n",
    "if platform.system() == \"Windows\":\n",
    "    os.environ[\"PYTHONPATH\"] += \";\" + ai4eutils_path\n",
    "    os.environ[\"PYTHONPATH\"] += \";\" + CameraTraps_path\n",
    "    os.environ[\"PYTHONPATH\"] += \";\" + src_path\n",
    "else:\n",
    "    os.environ[\"PYTHONPATH\"] += \":\" + ai4eutils_path\n",
    "    os.environ[\"PYTHONPATH\"] += \":\" + CameraTraps_path\n",
    "    os.environ[\"PYTHONPATH\"] += \":\" + src_path"
   ]
  },
  {
   "cell_type": "code",
   "execution_count": null,
   "metadata": {},
   "outputs": [],
   "source": [
    "!python src/features/fit_images.py --json_file \"$json_file\" --output_masked \"$output_masked\" --output_edited \"$output_edited\""
   ]
  },
  {
   "cell_type": "code",
   "execution_count": null,
   "metadata": {},
   "outputs": [],
   "source": [
    "if SHOW_RESULT:\n",
    "    import glob\n",
    "    import os\n",
    "\n",
    "    from PIL import Image\n",
    "    from tqdm import tqdm\n",
    "\n",
    "    image_extensions = [\".png\"]\n",
    "\n",
    "    def is_image_file(s):\n",
    "        ext = os.path.splitext(s)[1]\n",
    "        return ext.lower() in image_extensions\n",
    "\n",
    "    def find_image_files(strings):\n",
    "        return [s for s in strings if is_image_file(s)]\n",
    "\n",
    "    def find_images(dir_name):\n",
    "        strings = glob.glob(os.path.join(dir_name, \"*.*\"))\n",
    "        image_strings = find_image_files(strings)\n",
    "        return image_strings\n",
    "\n",
    "    image_file_names = find_images(masked_path)\n",
    "\n",
    "    for image_file in tqdm(image_file_names):\n",
    "        print(image_file)\n",
    "        im = Image.open(image_file)\n",
    "        display(im)\n",
    "        print(\"\\n\\n\")"
   ]
  }
 ],
 "metadata": {
  "language_info": {
   "name": "python"
  }
 },
 "nbformat": 4,
 "nbformat_minor": 2
}
