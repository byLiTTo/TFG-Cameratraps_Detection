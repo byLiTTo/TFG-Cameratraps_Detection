{
 "cells": [
  {
   "cell_type": "code",
   "execution_count": 1,
   "metadata": {},
   "outputs": [
    {
     "name": "stdout",
     "output_type": "stream",
     "text": [
      "Summary of created paths:\n",
      "Dataset: \t\t/Users/carlos/WORKSPACE/DATASETs/emptyNonEmptyDataset\n",
      "CSV: \t\t\t/Users/carlos/WORKSPACE/TFG-Cameratraps_Detection/data/interim/10Imagenes_binary.csv\n",
      "json_output_path: \t/Users/carlos/WORKSPACE/TFG-Cameratraps_Detection/resources/output_json\n",
      "Model detection: \t/Users/carlos/WORKSPACE/TFG-Cameratraps_Detection/models/MegaDetector v4.1, 2020.04.27/md_v4.1.0.pb\n",
      "Repor ai4eutils_path: \t/Users/carlos/WORKSPACE/TFG-Cameratraps_Detection/data/external/ai4eutils\n",
      "Repo CameraTraps_path: \t/Users/carlos/WORKSPACE/TFG-Cameratraps_Detection/data/external/CameraTraps\n",
      "PYTHONPATH: :/Users/carlos/WORKSPACE/TFG-Cameratraps_Detection/data/external/ai4eutils:/Users/carlos/WORKSPACE/TFG-Cameratraps_Detection/data/external/CameraTraps:/Users/carlos/WORKSPACE/TFG-Cameratraps_Detection/src\n"
     ]
    }
   ],
   "source": [
    "import os\n",
    "import platform\n",
    "\n",
    "dataset_files = os.path.abspath(\"../DATASETs/emptyNonEmptyDataset\")\n",
    "csv_file = os.path.abspath(\"./data/interim/10000Imagenes_binary.csv\")\n",
    "json_output_path = os.path.abspath(\"./resources/output_json\")\n",
    "detection_model = os.path.abspath(\"./models/MegaDetector v4.1, 2020.04.27/md_v4.1.0.pb\")\n",
    "\n",
    "ai4eutils_path = os.path.abspath(\"./data/external/ai4eutils\")\n",
    "CameraTraps_path = os.path.abspath(\"./data/external/CameraTraps\")\n",
    "src_path = os.path.abspath(\"./src\")\n",
    "\n",
    "try:\n",
    "    os.environ[\"PYTHONPATH\"]\n",
    "except KeyError:\n",
    "    os.environ[\"PYTHONPATH\"] = \"\"\n",
    "if platform.system() == \"Windows\":\n",
    "    os.environ[\"PYTHONPATH\"] += \";\" + ai4eutils_path\n",
    "    os.environ[\"PYTHONPATH\"] += \";\" + CameraTraps_path\n",
    "    os.environ[\"PYTHONPATH\"] += \";\" + src_path\n",
    "else:\n",
    "    os.environ[\"PYTHONPATH\"] += \":\" + ai4eutils_path\n",
    "    os.environ[\"PYTHONPATH\"] += \":\" + CameraTraps_path\n",
    "    os.environ[\"PYTHONPATH\"] += \":\" + src_path\n",
    "\n",
    "print(\"Summary of created paths:\")\n",
    "print(f\"Dataset: \\t\\t{dataset_files}\")\n",
    "print(f\"CSV: \\t\\t\\t{csv_file}\")\n",
    "print(f\"json_output_path: \\t{json_output_path}\")\n",
    "print(f\"Model detection: \\t{detection_model}\")\n",
    "print(f\"Repor ai4eutils_path: \\t{ai4eutils_path}\")\n",
    "print(f\"Repo CameraTraps_path: \\t{CameraTraps_path}\")\n",
    "print(f\"PYTHONPATH: {os.environ['PYTHONPATH']}\")"
   ]
  },
  {
   "cell_type": "code",
   "execution_count": 2,
   "metadata": {},
   "outputs": [
    {
     "name": "stdout",
     "output_type": "stream",
     "text": [
      "El archivo /Users/carlos/WORKSPACE/TFG-Cameratraps_Detection/data/interim/10Imagenes_binary.csv se ha abierto con éxito.\n",
      "Ejecutando detector en 14 imágenes...\n",
      "\n",
      "\n",
      "TFDetector: Cargando gráficos\n",
      "TFDetector: Gráficos de detección, cargados.\n",
      "\n",
      "2024-05-12 21:45:50.760657: I metal_plugin/src/device/metal_device.cc:1154] Metal device set to: Apple M1\n",
      "2024-05-12 21:45:50.760684: I metal_plugin/src/device/metal_device.cc:296] systemMemory: 16.00 GB\n",
      "2024-05-12 21:45:50.760692: I metal_plugin/src/device/metal_device.cc:313] maxCacheSize: 5.33 GB\n",
      "2024-05-12 21:45:50.760721: I tensorflow/core/common_runtime/pluggable_device/pluggable_device_factory.cc:306] Could not identify NUMA node of platform GPU ID 0, defaulting to 0. Your kernel may not have been built with NUMA support.\n",
      "2024-05-12 21:45:50.760737: I tensorflow/core/common_runtime/pluggable_device/pluggable_device_factory.cc:272] Created TensorFlow device (/job:localhost/replica:0/task:0/device:GPU:0 with 0 MB memory) -> physical PluggableDevice (device: 0, name: METAL, pci bus id: <undefined>)\n",
      "\n",
      "Modelo cargado en: 1.52 seconds.\n",
      "\n",
      "  0%|                                                    | 0/14 [00:00<?, ?it/s]2024-05-12 21:45:50.946309: I tensorflow/compiler/mlir/mlir_graph_optimization_pass.cc:388] MLIR V1 optimization pass is not enabled\n",
      "2024-05-12 21:45:51.086696: I tensorflow/core/grappler/optimizers/custom_graph_optimizer_registry.cc:117] Plugin optimizer for device_type GPU is enabled.\n",
      "WARNING: All log messages before absl::InitializeLog() is called are written to STDERR\n",
      "W0000 00:00:1715543152.529254       1 op_level_cost_estimator.cc:699] Error in PredictCost() for the op: op: \"CropAndResize\" attr { key: \"T\" value { type: DT_FLOAT } } attr { key: \"extrapolation_value\" value { f: 0 } } attr { key: \"method\" value { s: \"bilinear\" } } inputs { dtype: DT_FLOAT shape { dim { size: -1047 } dim { size: -1048 } dim { size: -1049 } dim { size: 1088 } } } inputs { dtype: DT_FLOAT shape { dim { size: -108 } dim { size: 4 } } } inputs { dtype: DT_INT32 shape { dim { size: -108 } } } inputs { dtype: DT_INT32 shape { dim { size: 2 } } value { dtype: DT_INT32 tensor_shape { dim { size: 2 } } int_val: 17 } } device { type: \"CPU\" model: \"0\" frequency: 2400 num_cores: 8 environment { key: \"cpu_instruction_set\" value: \"ARM NEON\" } environment { key: \"eigen\" value: \"3.4.90\" } l1_cache_size: 16384 l2_cache_size: 524288 l3_cache_size: 524288 memory_size: 268435456 } outputs { dtype: DT_FLOAT shape { dim { size: -108 } dim { size: 17 } dim { size: 17 } dim { size: 1088 } } }\n",
      "100%|███████████████████████████████████████████| 14/14 [01:10<00:00,  5.06s/it]\n",
      "\n",
      "Generado JSON con detecciones en el path: /Users/carlos/WORKSPACE/TFG-Cameratraps_Detection/resources/output_json\n",
      "\n",
      "De media, por cada imagen: \n",
      "Ha tomado 0.01 seconds en cargar, con desviación de 0 seconds\n",
      "Ha tomado 5.05 seconds en procesar, con desviación de 2.01 seconds\n",
      "\n",
      "\n",
      "Resultados guardados en: /Users/carlos/WORKSPACE/TFG-Cameratraps_Detection/resources/output_json\n",
      "\n"
     ]
    }
   ],
   "source": [
    "!python src/models/Detection.py --model_file \"$detection_model\" --csv \"$csv_file\" --dataset_dir \"$dataset_files\" --json_dir \"$json_output_path\""
   ]
  }
 ],
 "metadata": {
  "kernelspec": {
   "display_name": "TFG",
   "language": "python",
   "name": "python3"
  },
  "language_info": {
   "codemirror_mode": {
    "name": "ipython",
    "version": 3
   },
   "file_extension": ".py",
   "mimetype": "text/x-python",
   "name": "python",
   "nbconvert_exporter": "python",
   "pygments_lexer": "ipython3",
   "version": "3.10.13"
  }
 },
 "nbformat": 4,
 "nbformat_minor": 2
}
