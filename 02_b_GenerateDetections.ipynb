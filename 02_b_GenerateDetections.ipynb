{
 "cells": [
  {
   "cell_type": "code",
   "execution_count": 1,
   "metadata": {},
   "outputs": [
    {
     "name": "stdout",
     "output_type": "stream",
     "text": [
      "PYTHONPATH -  :/Users/carlos/Library/Mobile Documents/com~apple~CloudDocs/WORKSPACE/TFG-Cameratraps_Detection/data/external/ai4eutils:/Users/carlos/Library/Mobile Documents/com~apple~CloudDocs/WORKSPACE/TFG-Cameratraps_Detection/data/external/CameraTraps:/Users/carlos/Library/Mobile Documents/com~apple~CloudDocs/WORKSPACE/TFG-Cameratraps_Detection/src\n",
      "\n",
      "Dataset -  /Users/carlos/Library/Mobile Documents/com~apple~CloudDocs/WORKSPACE/TFG-Cameratraps_Detection/resources/input/emptyNonEmptyDataset\n",
      "CSV file -  /Users/carlos/Library/Mobile Documents/com~apple~CloudDocs/WORKSPACE/TFG-Cameratraps_Detection/data/interim/10Imagenes_binary.csv\n",
      "Output JSON folder -  /Users/carlos/Library/Mobile Documents/com~apple~CloudDocs/WORKSPACE/TFG-Cameratraps_Detection/resources/output_json/2024-05-23_19-17_0-1\n",
      "Detection model -  /Users/carlos/Library/Mobile Documents/com~apple~CloudDocs/WORKSPACE/TFG-Cameratraps_Detection/models/MegaDetector v4.1, 2020.04.27/md_v4.1.0.pb\n"
     ]
    }
   ],
   "source": [
    "import os\n",
    "import platform\n",
    "from datetime import datetime\n",
    "\n",
    "dataset_files = os.path.abspath(\"resources/input/emptyNonEmptyDataset\")\n",
    "\n",
    "csv_file = os.path.abspath(\"./data/interim/10Imagenes_binary.csv\")\n",
    "\n",
    "json_output_path = os.path.abspath(\"./resources/output_json\")\n",
    "now = datetime.now()\n",
    "date_time = now.strftime(\"%Y-%m-%d_%H-%M\")\n",
    "\n",
    "threshold = 0.1\n",
    "threshold = str(threshold).replace(\".\", \"-\")\n",
    "\n",
    "name = date_time + \"_\" + threshold\n",
    "\n",
    "folder_name = os.path.join(json_output_path, name)\n",
    "os.makedirs(folder_name)\n",
    "\n",
    "detection_model = os.path.abspath(\"./models/MegaDetector v4.1, 2020.04.27/md_v4.1.0.pb\")\n",
    "\n",
    "ai4eutils_path = os.path.abspath(\"./data/external/ai4eutils\")\n",
    "CameraTraps_path = os.path.abspath(\"./data/external/CameraTraps\")\n",
    "src_path = os.path.abspath(\"./src\")\n",
    "\n",
    "try:\n",
    "    os.environ[\"PYTHONPATH\"]\n",
    "except KeyError:\n",
    "    os.environ[\"PYTHONPATH\"] = \"\"\n",
    "if platform.system() == \"Windows\":\n",
    "    os.environ[\"PYTHONPATH\"] += \";\" + ai4eutils_path\n",
    "    os.environ[\"PYTHONPATH\"] += \";\" + CameraTraps_path\n",
    "    os.environ[\"PYTHONPATH\"] += \";\" + src_path\n",
    "else:\n",
    "    os.environ[\"PYTHONPATH\"] += \":\" + ai4eutils_path\n",
    "    os.environ[\"PYTHONPATH\"] += \":\" + CameraTraps_path\n",
    "    os.environ[\"PYTHONPATH\"] += \":\" + src_path\n",
    "\n",
    "print(\"PYTHONPATH - \", os.environ[\"PYTHONPATH\"])\n",
    "print()\n",
    "print(\"Dataset - \", dataset_files)\n",
    "print(\"CSV file - \", csv_file)\n",
    "print(\"Output JSON folder - \", folder_name)\n",
    "print(\"Detection model - \", detection_model)"
   ]
  },
  {
   "cell_type": "code",
   "execution_count": 2,
   "metadata": {},
   "outputs": [
    {
     "name": "stdout",
     "output_type": "stream",
     "text": [
      "El archivo /Users/carlos/Library/Mobile Documents/com~apple~CloudDocs/WORKSPACE/TFG-Cameratraps_Detection/data/interim/10Imagenes_binary.csv se ha abierto con éxito.\n",
      "\n",
      "Ejecutando detector en 14 imágenes...\n",
      "\n",
      "\n",
      "TFDetector: Cargando gráficos\n",
      "TFDetector: Gráficos de detección, cargados.\n",
      "\n",
      "Metal device set to: Apple M3\n",
      "\n",
      "systemMemory: 16.00 GB\n",
      "maxCacheSize: 5.33 GB\n",
      "\n",
      "2024-05-23 19:17:36.962588: I tensorflow/core/common_runtime/pluggable_device/pluggable_device_factory.cc:306] Could not identify NUMA node of platform GPU ID 0, defaulting to 0. Your kernel may not have been built with NUMA support.\n",
      "2024-05-23 19:17:36.962658: I tensorflow/core/common_runtime/pluggable_device/pluggable_device_factory.cc:272] Created TensorFlow device (/job:localhost/replica:0/task:0/device:GPU:0 with 0 MB memory) -> physical PluggableDevice (device: 0, name: METAL, pci bus id: <undefined>)\n",
      "\n",
      "Modelo cargado en: 3.31 seconds.\n",
      "\n",
      "  0%|                                                    | 0/14 [00:00<?, ?it/s]2024-05-23 19:17:37.113455: I tensorflow/compiler/mlir/mlir_graph_optimization_pass.cc:354] MLIR V1 optimization pass is not enabled\n",
      "2024-05-23 19:17:37.196727: W tensorflow/core/platform/profile_utils/cpu_utils.cc:128] Failed to get CPU frequency: 0 Hz\n",
      "2024-05-23 19:17:37.225752: I tensorflow/core/grappler/optimizers/custom_graph_optimizer_registry.cc:114] Plugin optimizer for device_type GPU is enabled.\n",
      "2024-05-23 19:17:38.436232: W tensorflow/core/grappler/costs/op_level_cost_estimator.cc:690] Error in PredictCost() for the op: op: \"CropAndResize\" attr { key: \"T\" value { type: DT_FLOAT } } attr { key: \"extrapolation_value\" value { f: 0 } } attr { key: \"method\" value { s: \"bilinear\" } } inputs { dtype: DT_FLOAT shape { dim { size: -1047 } dim { size: -1048 } dim { size: -1049 } dim { size: 1088 } } } inputs { dtype: DT_FLOAT shape { dim { size: -108 } dim { size: 4 } } } inputs { dtype: DT_INT32 shape { dim { size: -108 } } } inputs { dtype: DT_INT32 shape { dim { size: 2 } } value { dtype: DT_INT32 tensor_shape { dim { size: 2 } } int_val: 17 } } device { type: \"CPU\" model: \"0\" num_cores: 8 environment { key: \"cpu_instruction_set\" value: \"ARM NEON\" } environment { key: \"eigen\" value: \"3.4.90\" } l1_cache_size: 16384 l2_cache_size: 524288 l3_cache_size: 524288 memory_size: 268435456 } outputs { dtype: DT_FLOAT shape { dim { size: -108 } dim { size: 17 } dim { size: 17 } dim { size: 1088 } } }\n",
      "100%|███████████████████████████████████████████| 14/14 [00:50<00:00,  3.62s/it]\n",
      "\n",
      "Generado JSON con detecciones en el path: /Users/carlos/Library/Mobile Documents/com~apple~CloudDocs/WORKSPACE/TFG-Cameratraps_Detection/resources/output_json/2024-05-23_19-17_0-1\n",
      "\n",
      "De media, por cada imagen: \n",
      "Ha tomado 0.01 seconds en cargar, con desviación de 0 seconds\n",
      "Ha tomado 3.61 seconds en procesar, con desviación de 1.55 seconds\n",
      "\n",
      "\n",
      "Resultados guardados en: /Users/carlos/Library/Mobile Documents/com~apple~CloudDocs/WORKSPACE/TFG-Cameratraps_Detection/resources/output_json/2024-05-23_19-17_0-1\n",
      "\n"
     ]
    }
   ],
   "source": [
    "!python src/models/Detection.py --model_file \"$detection_model\" --csv \"$csv_file\" --dataset_dir \"$dataset_files\" --json_dir \"$folder_name\""
   ]
  }
 ],
 "metadata": {
  "kernelspec": {
   "display_name": "TFG",
   "language": "python",
   "name": "python3"
  },
  "language_info": {
   "codemirror_mode": {
    "name": "ipython",
    "version": 3
   },
   "file_extension": ".py",
   "mimetype": "text/x-python",
   "name": "python",
   "nbconvert_exporter": "python",
   "pygments_lexer": "ipython3",
   "version": "3.8.13"
  }
 },
 "nbformat": 4,
 "nbformat_minor": 2
}
